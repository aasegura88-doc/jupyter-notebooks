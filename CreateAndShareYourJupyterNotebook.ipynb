{
 "cells": [
  {
   "cell_type": "markdown",
   "metadata": {},
   "source": [
    "## jupyter-notebooks coursera file submission"
   ]
  },
  {
   "cell_type": "markdown",
   "metadata": {},
   "source": [
    "#### By Aaron Segura"
   ]
  },
  {
   "cell_type": "markdown",
   "metadata": {},
   "source": [
    "# Exercise 2 - Create a markdown cell with the title of the notebook. (1 pt)\n",
    "(see above)"
   ]
  },
  {
   "cell_type": "markdown",
   "metadata": {},
   "source": [
    "## Introduction - Exercise 3 - Create a markdown cell for an introduction. (1 pt)\n",
    "\n",
    "This is a markdown cell for an introduction. Here is the introduction:\n",
    "    \n",
    "In this assignment, we will explore the process of creating and sharing a Jupyter Notebook. Jupyter Notebooks are powerful tools that combine code execution, data visualization, and rich text elements, making them ideal for data analysis, machine learning, and research documentation. Throughout this assignment, we will learn how to create a notebook, format content using Markdown cells, and share our work with others. By the end of this exercise, we will have a solid understanding of the key features of Jupyter Notebooks and how they can enhance our data science workflow.    "
   ]
  },
  {
   "cell_type": "markdown",
   "metadata": {},
   "source": [
    "## Exercise 4 - Create a markdown cell to list data science languages. (3 pts)\n",
    "- Java\n",
    "- Julia\n",
    "- MATLAB\n",
    "- Python\n",
    "- R\n",
    "- SAS\n",
    "- Scala\n",
    "- SQL"
   ]
  },
  {
   "cell_type": "markdown",
   "metadata": {},
   "source": [
    "# Exercise 5 - Create a markdown cell to list data science libraries. (3 pts)\n",
    "\n",
    "In data science, a variety of libraries are used to handle data manipulation, visualization, machine learning, and statistical analysis. These libraries are available in different programming languages, each catering to specific needs and workflows. Below are some of the most commonly used data science libraries, organized alphabetically within each language.\n",
    "\n",
    "### Python\n",
    "\n",
    "- Keras\n",
    "- Matplotlib\n",
    "- NumPy\n",
    "- pandas\n",
    "- PyTorch\n",
    "- scikit-learn\n",
    "- SciPy\n",
    "- Seaborn\n",
    "- Statsmodels\n",
    "- TensorFlow\n",
    "\n",
    "### R\n",
    "\n",
    "- caret\n",
    "- data.table\n",
    "- dplyr\n",
    "- ggplot2\n",
    "- lubridate\n",
    "- plotly\n",
    "- randomForest\n",
    "- shiny\n",
    "- stringr\n",
    "- tidyr\n",
    "\n",
    "### Julia\n",
    "\n",
    "- DataFrames.jl\n",
    "- DifferentialEquations.jl\n",
    "- Distributions.jl\n",
    "- Flux.jl\n",
    "- Gadfly.jl\n",
    "- JuMP.jl\n",
    "- MLJ.jl\n",
    "- Plots.jl\n",
    "- StatsBase.jl\n",
    "- Turing.jl\n",
    "\n",
    "### MATLAB\n",
    "\n",
    "- Deep Learning Toolbox\n",
    "- Image Processing Toolbox\n",
    "- Optimization Toolbox\n",
    "- Signal Processing Toolbox\n",
    "- Statistics and Machine Learning Toolbox\n"
   ]
  },
  {
   "cell_type": "markdown",
   "metadata": {},
   "source": [
    "# Exercise 6 - Create a markdown cell with a table of Data Science tools. (3 pts)\n",
    "\n",
    "| Data Science Tools         |                                                 |\n",
    "|----------------------------|-------------------------------------------------\n",
    "| --Tool Category--          | --Tools--                                       |\n",
    "| **Programming Languages**  | Python, R, SQL, Julia, SAS, MATLAB, Scala, Java |\n",
    "| **Data Manipulation**      | pandas, dplyr, DataFrames.jl                    |\n",
    "| **Data Visualization**     | Matplotlib, ggplot2, Seaborn, Plotly, Gadfly.jl |\n",
    "| **Machine Learning**       | scikit-learn, TensorFlow, Keras, PyTorch, MLJ.jl|\n",
    "| **Statistical Analysis**   | Statsmodels, R's stats package, SAS             |\n",
    "| **Big Data Technologies**  | Apache Spark, Hadoop                            |\n",
    "| **Interactive Computing**  | Jupyter Notebook, RStudio                       |\n",
    "| **Database Management**    | MySQL, PostgreSQL, SQLite, MongoDB              |\n",
    "| **Version Control**        | Git, GitHub, GitLab                             |\n",
    "| **Deployment and Integration** | Docker, Kubernetes, Flask, Shiny             |\n"
   ]
  },
  {
   "cell_type": "markdown",
   "metadata": {},
   "source": [
    "# Exercise 7 - Create a markdown cell introducing arithmetic expression examples. (1 pt)\n",
    "Basic examples of arithmetic expressions:\n",
    "\n",
    "1. **Addition (+)**\n",
    "   - `5 + 3 = 8`\n",
    "   - Adds two numbers.\n",
    "\n",
    "2. **Subtraction (-)**\n",
    "   - `10 - 4 = 6`\n",
    "   - Subtracts the second number from the first.\n",
    "\n",
    "3. **Multiplication (*)**\n",
    "   - `7 * 2 = 14`\n",
    "   - Multiplies two numbers.\n",
    "\n",
    "4. **Division (/ or //)**\n",
    "   - `20 / 4 = 5`\n",
    "   - Divides the first number by the second.\n",
    "\n",
    "5. **Exponentiation (**)**\n",
    "   - `2 ** 3 = 8`\n",
    "   - Raises the first number to the power of the second.\n",
    "\n",
    "6. **Modulo (%)**\n",
    "   - `15 % 4 = 3`\n",
    "   - Returns the remainder of the division of the first number by the second.\n"
   ]
  },
  {
   "cell_type": "markdown",
   "metadata": {},
   "source": [
    "# Exercise 8 - Create a code cell to multiply and add numbers. (2 pts)"
   ]
  },
  {
   "cell_type": "markdown",
   "metadata": {},
   "source": [
    "### Multiplication"
   ]
  },
  {
   "cell_type": "code",
   "execution_count": 7,
   "metadata": {},
   "outputs": [
    {
     "data": {
      "text/plain": [
       "24"
      ]
     },
     "execution_count": 7,
     "metadata": {},
     "output_type": "execute_result"
    }
   ],
   "source": [
    "6 * 4"
   ]
  },
  {
   "cell_type": "markdown",
   "metadata": {},
   "source": [
    "### Addition"
   ]
  },
  {
   "cell_type": "code",
   "execution_count": 8,
   "metadata": {},
   "outputs": [
    {
     "data": {
      "text/plain": [
       "10"
      ]
     },
     "execution_count": 8,
     "metadata": {},
     "output_type": "execute_result"
    }
   ],
   "source": [
    "6 + 4"
   ]
  },
  {
   "cell_type": "markdown",
   "metadata": {},
   "source": [
    "# Exercise 9 - Create a code cell to convert minutes to hours. (2 pts)"
   ]
  },
  {
   "cell_type": "code",
   "execution_count": 9,
   "metadata": {},
   "outputs": [
    {
     "name": "stdout",
     "output_type": "stream",
     "text": [
      "157 minutes is 2.6166666666666667 hours\n"
     ]
    }
   ],
   "source": [
    "def convert_minutes_to_hours(minutes):\n",
    "    hours = minutes / 60\n",
    "    return hours\n",
    "\n",
    "# Example - 157 minutes to hours\n",
    "minutes = 157\n",
    "hours = convert_minutes_to_hours(minutes)\n",
    "print(f\"{minutes} minutes is {hours} hours\")\n"
   ]
  },
  {
   "cell_type": "markdown",
   "metadata": {},
   "source": [
    "# Exercise 10 -Insert a markdown cell to list Objectives. (3 pts)"
   ]
  },
  {
   "cell_type": "markdown",
   "metadata": {},
   "source": [
    "## Objectives for this Assignment\n",
    "\n",
    "Your grade will be based on the following exercises:\n",
    "\n",
    "1. **Exercise 2** - Create a markdown cell with the title of the notebook. (1 pt)\n",
    "\n",
    "2. **Exercise 3** - Create a markdown cell for an introduction. (1 pt)\n",
    "\n",
    "3. **Exercise 4** - Create a markdown cell to list data science languages. (3 pts)\n",
    "\n",
    "4. **Exercise 5** - Create a markdown cell to list data science libraries. (3 pts)\n",
    "\n",
    "5. **Exercise 6** - Create a markdown cell with a table of Data Science tools. (3 pts)\n",
    "\n",
    "6. **Exercise 7** - Create a markdown cell introducing arithmetic expression examples. (1 pt)\n",
    "\n",
    "7. **Exercise 8** - Create a code cell to multiply and add numbers. (2 pts)\n",
    "\n",
    "8. **Exercise 9** - Create a code cell to convert minutes to hours. (2 pts)\n",
    "\n",
    "9. **Exercise 10** - Insert a markdown cell to list Objectives. (3 pts)\n",
    "\n",
    "10. **Exercise 11** - Create a markdown cell to indicate the Author’s name. (2 pts)\n",
    "\n",
    "11. **Exercise 12** - Share your notebook through GitHub (3 pts)\n",
    "\n",
    "12. **Exercise 13** - Take a screenshot of the first page of the notebook. (1 pt)\n"
   ]
  },
  {
   "cell_type": "markdown",
   "metadata": {},
   "source": [
    "# Exercise 11 - Create a markdown cell to indicate the Author’s name. (2 pts)\n",
    "\n",
    "# Aaron Segura"
   ]
  },
  {
   "cell_type": "markdown",
   "metadata": {},
   "source": [
    "Other exercise objectives:\n",
    "\n",
    "Exercise 12 - Share your notebook through GitHub (3 pts)\n",
    "\n",
    "Exercise 13 - Take a screenshot of the first page of the notebook. (1 pt)"
   ]
  },
  {
   "cell_type": "code",
   "execution_count": null,
   "metadata": {},
   "outputs": [],
   "source": []
  }
 ],
 "metadata": {
  "kernelspec": {
   "display_name": "Python 3",
   "language": "python",
   "name": "python3"
  },
  "language_info": {
   "codemirror_mode": {
    "name": "ipython",
    "version": 3
   },
   "file_extension": ".py",
   "mimetype": "text/x-python",
   "name": "python",
   "nbconvert_exporter": "python",
   "pygments_lexer": "ipython3",
   "version": "3.6.10"
  },
  "latex_envs": {
   "LaTeX_envs_menu_present": true,
   "autoclose": true,
   "autocomplete": true,
   "bibliofile": "biblio.bib",
   "cite_by": "apalike",
   "current_citInitial": 1,
   "eqLabelWithNumbers": true,
   "eqNumInitial": 1,
   "hotkeys": {
    "equation": "Ctrl-E",
    "itemize": "Ctrl-I"
   },
   "labels_anchors": false,
   "latex_user_defs": false,
   "report_style_numbering": false,
   "user_envs_cfg": false
  }
 },
 "nbformat": 4,
 "nbformat_minor": 2
}
